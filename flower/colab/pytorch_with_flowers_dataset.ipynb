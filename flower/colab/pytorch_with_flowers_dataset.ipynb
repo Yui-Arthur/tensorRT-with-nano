{
  "cells": [
    {
      "cell_type": "markdown",
      "metadata": {
        "id": "szF6m2w9y1HN"
      },
      "source": [
        "# train with pytorch\n"
      ]
    },
    {
      "cell_type": "markdown",
      "metadata": {
        "id": "aABVPnQbxci0"
      },
      "source": [
        "## down flower dataset"
      ]
    },
    {
      "cell_type": "code",
      "execution_count": null,
      "metadata": {
        "id": "v5EhNauGO8cx"
      },
      "outputs": [],
      "source": [
        "!wget \"https://storage.googleapis.com/download.tensorflow.org/example_images/flower_photos.tgz\"\n",
        "!tar zxvf flower_photos.tgz"
      ]
    },
    {
      "cell_type": "code",
      "execution_count": null,
      "metadata": {
        "id": "PAPisy3PQMN0"
      },
      "outputs": [],
      "source": [
        "import gc\n",
        "import numpy as np\n",
        "import pandas as pd\n",
        "import torch\n",
        "import os\n",
        "import torch.nn as nn\n",
        "import torchvision.transforms as transforms\n",
        "from torchvision import models\n",
        "from PIL import Image\n",
        "from torch.utils.data import ConcatDataset, DataLoader, Subset, Dataset\n",
        "from torchvision.datasets import DatasetFolder, VisionDataset\n",
        "from tqdm.auto import tqdm\n",
        "import random\n",
        "from pathlib import Path\n",
        "import math\n",
        "from pathlib import Path"
      ]
    },
    {
      "cell_type": "code",
      "execution_count": null,
      "metadata": {
        "id": "zU-YjkTCQRDO"
      },
      "outputs": [],
      "source": [
        "myseed = 1234\n",
        "torch.backends.cudnn.deterministic = True\n",
        "torch.backends.cudnn.benchmark = False\n",
        "np.random.seed(myseed)\n",
        "torch.manual_seed(myseed)\n",
        "if torch.cuda.is_available():\n",
        "    torch.cuda.manual_seed_all(myseed)"
      ]
    },
    {
      "cell_type": "markdown",
      "metadata": {
        "id": "3rn_5irqxr97"
      },
      "source": [
        "## flower classify model"
      ]
    },
    {
      "cell_type": "code",
      "execution_count": null,
      "metadata": {
        "id": "Q6J8EFnzIXX4"
      },
      "outputs": [],
      "source": [
        "class flower_classify_model(nn.Module):\n",
        "  def __init__(self):\n",
        "    super(flower_classify_model, self).__init__()\n",
        "    self.cnn = torchvision.models.efficientnet_b0(weights = \"IMAGENET1K_V1\")\n",
        "    self.fc = nn.Linear(1000 , 5)\n",
        "  def forward(self, img):\n",
        "\n",
        "    out = self.cnn(img)\n",
        "    out = self.fc(out)\n",
        "    return out"
      ]
    },
    {
      "cell_type": "markdown",
      "metadata": {
        "id": "am7e02WPxy8B"
      },
      "source": [
        "## flower dataset"
      ]
    },
    {
      "cell_type": "code",
      "execution_count": null,
      "metadata": {
        "id": "30mAHtK7P3ax"
      },
      "outputs": [],
      "source": [
        "class flower_dataset(Dataset):\n",
        "  def __init__(self,files,tfm):\n",
        "    super(flower_dataset).__init__()\n",
        "\n",
        "    self.files = files\n",
        "\n",
        "\n",
        "    self.transform = tfm\n",
        "\n",
        "  def __len__(self):\n",
        "    return len(self.files)\n",
        "\n",
        "  def __getitem__(self,idx):\n",
        "    im = Image.open(self.files[idx][0])\n",
        "    im = self.transform(im)\n",
        "    return im , self.files[idx][1]\n",
        "\n"
      ]
    },
    {
      "cell_type": "markdown",
      "metadata": {
        "id": "RpKfb-vmx4FP"
      },
      "source": [
        "## data augmentation"
      ]
    },
    {
      "cell_type": "code",
      "execution_count": null,
      "metadata": {
        "id": "y2w8swGXRo8V"
      },
      "outputs": [],
      "source": [
        "image_size = (320,263)\n",
        "test_tfm = transforms.Compose([\n",
        "    transforms.Resize(image_size),\n",
        "    transforms.ToTensor(),\n",
        "])\n",
        "\n",
        "train_tfm = transforms.Compose([\n",
        "    transforms.Resize(image_size),\n",
        "    transforms.RandomAdjustSharpness(1.5, p=0.5),\n",
        "    transforms.RandomHorizontalFlip(p=0.5),\n",
        "    transforms.RandomRotation(10),\n",
        "    transforms.RandomAutocontrast(p=0.5),\n",
        "    transforms.ColorJitter(0.2,0.2,0.2,0.05),\n",
        "    transforms.ToTensor(),\n",
        "    transforms.RandomErasing(p=0.5,scale=(0.005,0.015),value=(1,1,1)),\n",
        "])"
      ]
    },
    {
      "cell_type": "markdown",
      "metadata": {
        "id": "naLMVXlFx-06"
      },
      "source": [
        "## split train & valid set"
      ]
    },
    {
      "cell_type": "code",
      "execution_count": null,
      "metadata": {
        "id": "BHM84Q01Meds"
      },
      "outputs": [],
      "source": [
        "def gen_train_vaild_files(flower_path , train_valid_ratio):\n",
        "\n",
        "  train_files = []\n",
        "  valid_files = []\n",
        "\n",
        "  class_dic = {\n",
        "    \"daisy\"  : 0,\n",
        "    \"dandelion\" :  1,\n",
        "    \"roses\" :  2,\n",
        "    \"sunflowers\" : 3,\n",
        "    \"tulips\" : 4\n",
        "  }\n",
        "\n",
        "  for class_folder in Path(flower_path).glob('*'):\n",
        "    img_li = [i for i in class_folder.glob('*.jpg')]\n",
        "    for idx , img_file in enumerate(img_li):\n",
        "      if idx < len(img_li) * train_valid_ratio:\n",
        "        train_files.append([img_file , class_dic[class_folder.stem]])\n",
        "      else:\n",
        "        valid_files.append([img_file , class_dic[class_folder.stem]])\n",
        "\n",
        "\n",
        "  print(f\"train set size : {len(train_files)}\")\n",
        "  print(f\"valid set size : {len(valid_files)}\")\n",
        "\n",
        "  return train_files , valid_files"
      ]
    },
    {
      "cell_type": "markdown",
      "metadata": {
        "id": "70gnonrHyMJG"
      },
      "source": [
        "## hyperparameter"
      ]
    },
    {
      "cell_type": "code",
      "execution_count": null,
      "metadata": {
        "colab": {
          "base_uri": "https://localhost:8080/"
        },
        "id": "wJCYZTdkNxmi",
        "outputId": "8a491d2e-ab10-4c3a-86a8-07803cc6e23d"
      },
      "outputs": [],
      "source": [
        "import torch\n",
        "import torchvision\n",
        "\n",
        "\n",
        "device = \"cuda\" if torch.cuda.is_available() else \"cpu\"\n",
        "model = flower_classify_model().to(device)\n",
        "batch_size = 32\n",
        "n_epochs = 5\n",
        "patience = 10\n",
        "criterion = nn.CrossEntropyLoss(label_smoothing = 0.05)\n",
        "optimizer = torch.optim.Adam(model.parameters(), lr=0.0003, weight_decay=1e-5)\n",
        "_exp_name = \"flower_classfication_model\"\n",
        "flower_path = \"/content/flower_photos\"\n",
        "train_valid_ratio = 0.9\n"
      ]
    },
    {
      "cell_type": "code",
      "execution_count": null,
      "metadata": {
        "colab": {
          "base_uri": "https://localhost:8080/"
        },
        "id": "szKM5WjkO_5r",
        "outputId": "9c767f08-9ca2-4a77-cbc2-1e6c03d0d9d0"
      },
      "outputs": [],
      "source": [
        "train_files , valid_files = gen_train_vaild_files(flower_path , train_valid_ratio)\n",
        "train_set = flower_dataset(train_files , tfm=train_tfm)\n",
        "train_loader = DataLoader(train_set, batch_size=batch_size, shuffle=True, num_workers=0, pin_memory=True)\n",
        "valid_set = flower_dataset(valid_files, tfm=test_tfm)\n",
        "valid_loader = DataLoader(valid_set, batch_size=batch_size, shuffle=True, num_workers=0, pin_memory=True)"
      ]
    },
    {
      "cell_type": "markdown",
      "metadata": {
        "id": "tvMidThbyOEN"
      },
      "source": [
        "## training"
      ]
    },
    {
      "cell_type": "code",
      "execution_count": null,
      "metadata": {
        "colab": {
          "base_uri": "https://localhost:8080/",
          "height": 150,
          "referenced_widgets": [
            "b1701e02c21c4b1fb911ad44a99a8845",
            "0ef88f284d94482aa58480a2494b11fe",
            "48f1f936567048329c5616a523e4f5be",
            "717014c53143485e8419094c067fe423",
            "6dbd376118894d3d887452479e12332b",
            "b184e27f055b4f62bf6f5a85c1eb4c5b",
            "244fff0e97c64f4bafdf44b3f323bdeb",
            "7fafc01ee7354d43aaf0d13071e5a2dc",
            "04787ea2c1c44476ad6ab5a647689380",
            "8bfcf766b7a24065a6a13f5dfe9f4d53",
            "29665da5b11c442ba10bd7942e12c44e",
            "ad9a3c7f24344021a528a8c2689fcf8a",
            "7e4f717f873c43d6adf78606cd79d22a",
            "90dc4d585a064455a46c730e480e18f5",
            "70aa6a4f97b24101a6cefdc7ef9a849c",
            "37a61233ee9b467f9976e1fe6b007bd4",
            "ec0f096cb0804d9b8c78c35ae43d639e",
            "e40df8ae420745558e29855b3dd88499",
            "d58cb7d7cec04285a413441ac00481ae",
            "1e8e2698312f401786b445c0759df6b3",
            "c98ac494951a495fbff91837cca1b306",
            "ad356a7fd5c74e8c99511f051481b32b"
          ]
        },
        "id": "LZT974Q-PZ2w",
        "outputId": "b2e5c1bc-59b0-412f-9786-832d57c02752"
      },
      "outputs": [],
      "source": [
        "stale = 0\n",
        "best_acc = 0\n",
        "train_acc_record = []\n",
        "train_loss_record = []\n",
        "valid_acc_record = []\n",
        "valid_loss_record = []\n",
        "\n",
        "for epoch in range(n_epochs):\n",
        "\n",
        "    # ---------- Training ----------\n",
        "    # Make sure the model is in train mode before training.\n",
        "    model.train()\n",
        "\n",
        "    # These are used to record information in training.\n",
        "    train_loss = []\n",
        "    train_accs = []\n",
        "    for batch in tqdm(train_loader):\n",
        "\n",
        "        imgs , labels = batch\n",
        "\n",
        "        logits = model(imgs.to(device))\n",
        "\n",
        "\n",
        "        # Calculate the cross-entropy loss.\n",
        "        # We don't need to apply softmax before computing cross-entropy as it is done automatically.\n",
        "        loss = criterion(logits, labels.to(device))\n",
        "\n",
        "        # Gradients stored in the parameters in the previous step should be cleared out first.\n",
        "        optimizer.zero_grad()\n",
        "\n",
        "        # Compute the gradients for parameters.\n",
        "        loss.backward()\n",
        "\n",
        "        # Clip the gradient norms for stable training.\n",
        "        grad_norm = nn.utils.clip_grad_norm_(model.parameters(), max_norm=10)\n",
        "\n",
        "        # Update the parameters with computed gradients.\n",
        "        optimizer.step()\n",
        "\n",
        "        # Compute the accuracy for current batch.\n",
        "        acc = (logits.argmax(dim=-1) == labels.to(device)).float().mean()\n",
        "\n",
        "        # Record the loss and accuracy.\n",
        "        train_loss.append(loss.item())\n",
        "        train_accs.append(acc)\n",
        "\n",
        "    train_loss = sum(train_loss) / len(train_loss)\n",
        "    train_acc = sum(train_accs) / len(train_accs)\n",
        "\n",
        "    train_acc_record.append(train_acc.to('cpu'))\n",
        "    train_loss_record.append(train_loss)\n",
        "    # Print the information.\n",
        "    print(f\"[ Train | {epoch + 1:03d}/{n_epochs:03d} ] loss = {train_loss:.5f}, acc = {train_acc:.5f}\")\n",
        "\n",
        "    # ---------- Validation ----------\n",
        "    # Make sure the model is in eval mode so that some modules like dropout are disabled and work normally.\n",
        "    model.eval()\n",
        "\n",
        "    # These are used to record information in validation.\n",
        "    valid_loss = []\n",
        "    valid_accs = []\n",
        "\n",
        "    # Iterate the validation set by batches.\n",
        "    for batch in tqdm(valid_loader):\n",
        "\n",
        "        # A batch consists of image data and corresponding labels.\n",
        "        imgs, labels = batch\n",
        "\n",
        "        # We don't need gradient in validation.\n",
        "        # Using torch.no_grad() accelerates the forward process.\n",
        "        with torch.no_grad():\n",
        "            logits = model(imgs.to(device))\n",
        "\n",
        "        # We can still compute the loss (but not the gradient).\n",
        "        loss = criterion(logits, labels.to(device))\n",
        "\n",
        "        # Compute the accuracy for current batch.\n",
        "        acc = (logits.argmax(dim=-1) == labels.to(device)).float().mean()\n",
        "\n",
        "        # Record the loss and accuracy.\n",
        "        valid_loss.append(loss.item())\n",
        "        valid_accs.append(acc)\n",
        "        #break\n",
        "\n",
        "    # The average loss and accuracy for entire validation set is the average of the recorded values.\n",
        "    valid_loss = sum(valid_loss) / len(valid_loss)\n",
        "    valid_acc = sum(valid_accs) / len(valid_accs)\n",
        "\n",
        "    valid_acc_record.append(valid_acc.to('cpu'))\n",
        "    valid_loss_record.append(valid_loss)\n",
        "\n",
        "    # Print the information.\n",
        "    print(f\"[ Valid | {epoch + 1:03d}/{n_epochs:03d} ] loss = {valid_loss:.5f}, acc = {valid_acc:.5f}\")\n",
        "\n",
        "    # update logs\n",
        "    if valid_acc > best_acc:\n",
        "        with open(f\"./{_exp_name}_log.txt\",\"a\"):\n",
        "            print(f\"[ Valid | {epoch + 1:03d}/{n_epochs:03d} ] loss = {valid_loss:.5f}, acc = {valid_acc:.5f} -> best\")\n",
        "    else:\n",
        "        with open(f\"./{_exp_name}_log.txt\",\"a\"):\n",
        "            print(f\"[ Valid | {epoch + 1:03d}/{n_epochs:03d} ] loss = {valid_loss:.5f}, acc = {valid_acc:.5f}\")\n",
        "\n",
        "\n",
        "    # save models\n",
        "    if valid_acc > best_acc:\n",
        "        print(f\"Best model found at epoch {epoch}, saving model\")\n",
        "        torch.save(model.state_dict(), f\"{_exp_name}_best.pt\") # only save best to prevent output memory exceed error\n",
        "        best_acc = valid_acc\n",
        "        stale = 0\n",
        "    else:\n",
        "        stale += 1\n",
        "        if stale > patience:\n",
        "            print(f\"No improvment {patience} consecutive epochs, early stopping\")\n",
        "            break"
      ]
    },
    {
      "cell_type": "markdown",
      "metadata": {
        "id": "Pe8oJn2YySCI"
      },
      "source": [
        "## train log"
      ]
    },
    {
      "cell_type": "code",
      "execution_count": null,
      "metadata": {
        "colab": {
          "base_uri": "https://localhost:8080/",
          "height": 843
        },
        "id": "7BbvYSkZQh17",
        "outputId": "6d27af88-13a2-4e6e-8b6d-b0c44c1c0d91"
      },
      "outputs": [],
      "source": [
        "import matplotlib.pyplot as plt\n",
        "\n",
        "plt.plot([*range(1,len(train_acc_record)+1)] , train_acc_record , label = \"training\")\n",
        "plt.plot([*range(1,len(train_acc_record)+1)] , valid_acc_record , label = \"validation\")\n",
        "\n",
        "plt.xticks(np.arange(0, n_epochs+1, 5))\n",
        "plt.legend(loc=\"upper left\")\n",
        "\n",
        "plt.savefig('acc.png')\n",
        "plt.show()\n",
        "\n",
        "\n",
        "plt.plot([*range(1,len(train_acc_record)+1)] , train_loss_record , label = \"training\")\n",
        "plt.plot([*range(1,len(train_acc_record)+1)] , valid_loss_record , label = \"valiidation\")\n",
        "\n",
        "plt.xticks(np.arange(0, n_epochs+1, 5))\n",
        "plt.legend(loc=\"upper left\")\n",
        "\n",
        "plt.savefig('loss.png')\n",
        "plt.show()"
      ]
    },
    {
      "cell_type": "markdown",
      "metadata": {
        "id": "3JT0cdz9yWGH"
      },
      "source": [
        "# .pt model to .onnx"
      ]
    },
    {
      "cell_type": "code",
      "execution_count": null,
      "metadata": {
        "colab": {
          "base_uri": "https://localhost:8080/"
        },
        "id": "BYM2CUYs-af4",
        "outputId": "08f706de-4c56-49cf-eb77-8151593f7d17"
      },
      "outputs": [],
      "source": [
        "!pip install onnx\n",
        "!wget https://npr.brightspotcdn.com/7c/15/1d76bc934e8cb103a56d43eedc7b/sunflower-wide.jpg -O sunflower.jpg"
      ]
    },
    {
      "cell_type": "markdown",
      "metadata": {
        "id": "V7-VZbAaK3rM"
      },
      "source": [
        "## check model"
      ]
    },
    {
      "cell_type": "code",
      "execution_count": null,
      "metadata": {
        "colab": {
          "base_uri": "https://localhost:8080/"
        },
        "id": "RiwbJ770HdDU",
        "outputId": "82f6ddc1-4b11-48c3-8a9f-9e27b7cae0f6"
      },
      "outputs": [],
      "source": [
        "model = flower_classify_model()\n",
        "model.load_state_dict(torch.load(f\"{_exp_name}_best.pt\"))\n",
        "model.eval()\n",
        "\n",
        "im = Image.open(\"/content/sunflower.jpg\")\n",
        "im = test_tfm(im)\n",
        "pred = model(im.unsqueeze(0))\n",
        "label = np.argmax(pred.data.numpy(), axis=1)\n",
        "softmax = torch.nn.Softmax(dim = 1)\n",
        "conf = softmax(pred)\n",
        "class_dic = {\n",
        "  0 : \"daisy\",\n",
        "  1 : \"dandelion\",\n",
        "  2 : \"roses\",\n",
        "  3 : \"sunflowers\",\n",
        "  4 : \"tulips\"\n",
        "}\n",
        "\n",
        "print(class_dic[label[0]] , conf[0][label].item())\n"
      ]
    },
    {
      "cell_type": "markdown",
      "metadata": {
        "id": "-bDyLKf8K-4_"
      },
      "source": [
        "## export to onnx"
      ]
    },
    {
      "cell_type": "code",
      "execution_count": null,
      "metadata": {
        "colab": {
          "base_uri": "https://localhost:8080/"
        },
        "id": "vsYWIZQX8AVy",
        "outputId": "2d50af57-d5c1-46ad-e15f-be7cb1bb620c"
      },
      "outputs": [],
      "source": [
        "# Input to the model\n",
        "batch_size = 1\n",
        "x = torch.randn(batch_size, 3, 320 , 263, requires_grad=True)\n",
        "torch_out = model(x)\n",
        "# Export the model\n",
        "torch.onnx.export(model,# model being run\n",
        "        x,   # model input (or a tuple for multiple inputs)\n",
        "        f\"{_exp_name}_best.onnx\",  # where to save the model (can be a file or file-like object)\n",
        "        export_params=True, # store the trained parameter weights inside the model file\n",
        "        opset_version=10,   # the ONNX version to export the model to\n",
        "        do_constant_folding=True, # whether to execute constant folding for optimization\n",
        "        input_names = ['input'],  # the model's input names\n",
        "        output_names = ['output'], # the model's output names\n",
        "        dynamic_axes={'input' : {0 : 'batch_size'}, # variable length axes\n",
        "            'output' : {0 : 'batch_size'}})"
      ]
    }
  ],
  "metadata": {
    "accelerator": "GPU",
    "colab": {
      "gpuType": "T4",
      "provenance": []
    },
    "kernelspec": {
      "display_name": "Python 3",
      "name": "python3"
    },
    "language_info": {
      "name": "python"
    },
    "widgets": {
      "application/vnd.jupyter.widget-state+json": {
        "04787ea2c1c44476ad6ab5a647689380": {
          "model_module": "@jupyter-widgets/controls",
          "model_module_version": "1.5.0",
          "model_name": "ProgressStyleModel",
          "state": {
            "_model_module": "@jupyter-widgets/controls",
            "_model_module_version": "1.5.0",
            "_model_name": "ProgressStyleModel",
            "_view_count": null,
            "_view_module": "@jupyter-widgets/base",
            "_view_module_version": "1.2.0",
            "_view_name": "StyleView",
            "bar_color": null,
            "description_width": ""
          }
        },
        "0ef88f284d94482aa58480a2494b11fe": {
          "model_module": "@jupyter-widgets/controls",
          "model_module_version": "1.5.0",
          "model_name": "HTMLModel",
          "state": {
            "_dom_classes": [],
            "_model_module": "@jupyter-widgets/controls",
            "_model_module_version": "1.5.0",
            "_model_name": "HTMLModel",
            "_view_count": null,
            "_view_module": "@jupyter-widgets/controls",
            "_view_module_version": "1.5.0",
            "_view_name": "HTMLView",
            "description": "",
            "description_tooltip": null,
            "layout": "IPY_MODEL_b184e27f055b4f62bf6f5a85c1eb4c5b",
            "placeholder": "​",
            "style": "IPY_MODEL_244fff0e97c64f4bafdf44b3f323bdeb",
            "value": "100%"
          }
        },
        "1e8e2698312f401786b445c0759df6b3": {
          "model_module": "@jupyter-widgets/controls",
          "model_module_version": "1.5.0",
          "model_name": "ProgressStyleModel",
          "state": {
            "_model_module": "@jupyter-widgets/controls",
            "_model_module_version": "1.5.0",
            "_model_name": "ProgressStyleModel",
            "_view_count": null,
            "_view_module": "@jupyter-widgets/base",
            "_view_module_version": "1.2.0",
            "_view_name": "StyleView",
            "bar_color": null,
            "description_width": ""
          }
        },
        "244fff0e97c64f4bafdf44b3f323bdeb": {
          "model_module": "@jupyter-widgets/controls",
          "model_module_version": "1.5.0",
          "model_name": "DescriptionStyleModel",
          "state": {
            "_model_module": "@jupyter-widgets/controls",
            "_model_module_version": "1.5.0",
            "_model_name": "DescriptionStyleModel",
            "_view_count": null,
            "_view_module": "@jupyter-widgets/base",
            "_view_module_version": "1.2.0",
            "_view_name": "StyleView",
            "description_width": ""
          }
        },
        "29665da5b11c442ba10bd7942e12c44e": {
          "model_module": "@jupyter-widgets/controls",
          "model_module_version": "1.5.0",
          "model_name": "DescriptionStyleModel",
          "state": {
            "_model_module": "@jupyter-widgets/controls",
            "_model_module_version": "1.5.0",
            "_model_name": "DescriptionStyleModel",
            "_view_count": null,
            "_view_module": "@jupyter-widgets/base",
            "_view_module_version": "1.2.0",
            "_view_name": "StyleView",
            "description_width": ""
          }
        },
        "37a61233ee9b467f9976e1fe6b007bd4": {
          "model_module": "@jupyter-widgets/base",
          "model_module_version": "1.2.0",
          "model_name": "LayoutModel",
          "state": {
            "_model_module": "@jupyter-widgets/base",
            "_model_module_version": "1.2.0",
            "_model_name": "LayoutModel",
            "_view_count": null,
            "_view_module": "@jupyter-widgets/base",
            "_view_module_version": "1.2.0",
            "_view_name": "LayoutView",
            "align_content": null,
            "align_items": null,
            "align_self": null,
            "border": null,
            "bottom": null,
            "display": null,
            "flex": null,
            "flex_flow": null,
            "grid_area": null,
            "grid_auto_columns": null,
            "grid_auto_flow": null,
            "grid_auto_rows": null,
            "grid_column": null,
            "grid_gap": null,
            "grid_row": null,
            "grid_template_areas": null,
            "grid_template_columns": null,
            "grid_template_rows": null,
            "height": null,
            "justify_content": null,
            "justify_items": null,
            "left": null,
            "margin": null,
            "max_height": null,
            "max_width": null,
            "min_height": null,
            "min_width": null,
            "object_fit": null,
            "object_position": null,
            "order": null,
            "overflow": null,
            "overflow_x": null,
            "overflow_y": null,
            "padding": null,
            "right": null,
            "top": null,
            "visibility": null,
            "width": null
          }
        },
        "48f1f936567048329c5616a523e4f5be": {
          "model_module": "@jupyter-widgets/controls",
          "model_module_version": "1.5.0",
          "model_name": "FloatProgressModel",
          "state": {
            "_dom_classes": [],
            "_model_module": "@jupyter-widgets/controls",
            "_model_module_version": "1.5.0",
            "_model_name": "FloatProgressModel",
            "_view_count": null,
            "_view_module": "@jupyter-widgets/controls",
            "_view_module_version": "1.5.0",
            "_view_name": "ProgressView",
            "bar_style": "success",
            "description": "",
            "description_tooltip": null,
            "layout": "IPY_MODEL_7fafc01ee7354d43aaf0d13071e5a2dc",
            "max": 104,
            "min": 0,
            "orientation": "horizontal",
            "style": "IPY_MODEL_04787ea2c1c44476ad6ab5a647689380",
            "value": 104
          }
        },
        "6dbd376118894d3d887452479e12332b": {
          "model_module": "@jupyter-widgets/base",
          "model_module_version": "1.2.0",
          "model_name": "LayoutModel",
          "state": {
            "_model_module": "@jupyter-widgets/base",
            "_model_module_version": "1.2.0",
            "_model_name": "LayoutModel",
            "_view_count": null,
            "_view_module": "@jupyter-widgets/base",
            "_view_module_version": "1.2.0",
            "_view_name": "LayoutView",
            "align_content": null,
            "align_items": null,
            "align_self": null,
            "border": null,
            "bottom": null,
            "display": null,
            "flex": null,
            "flex_flow": null,
            "grid_area": null,
            "grid_auto_columns": null,
            "grid_auto_flow": null,
            "grid_auto_rows": null,
            "grid_column": null,
            "grid_gap": null,
            "grid_row": null,
            "grid_template_areas": null,
            "grid_template_columns": null,
            "grid_template_rows": null,
            "height": null,
            "justify_content": null,
            "justify_items": null,
            "left": null,
            "margin": null,
            "max_height": null,
            "max_width": null,
            "min_height": null,
            "min_width": null,
            "object_fit": null,
            "object_position": null,
            "order": null,
            "overflow": null,
            "overflow_x": null,
            "overflow_y": null,
            "padding": null,
            "right": null,
            "top": null,
            "visibility": null,
            "width": null
          }
        },
        "70aa6a4f97b24101a6cefdc7ef9a849c": {
          "model_module": "@jupyter-widgets/controls",
          "model_module_version": "1.5.0",
          "model_name": "HTMLModel",
          "state": {
            "_dom_classes": [],
            "_model_module": "@jupyter-widgets/controls",
            "_model_module_version": "1.5.0",
            "_model_name": "HTMLModel",
            "_view_count": null,
            "_view_module": "@jupyter-widgets/controls",
            "_view_module_version": "1.5.0",
            "_view_name": "HTMLView",
            "description": "",
            "description_tooltip": null,
            "layout": "IPY_MODEL_c98ac494951a495fbff91837cca1b306",
            "placeholder": "​",
            "style": "IPY_MODEL_ad356a7fd5c74e8c99511f051481b32b",
            "value": " 12/12 [00:02&lt;00:00,  5.85it/s]"
          }
        },
        "717014c53143485e8419094c067fe423": {
          "model_module": "@jupyter-widgets/controls",
          "model_module_version": "1.5.0",
          "model_name": "HTMLModel",
          "state": {
            "_dom_classes": [],
            "_model_module": "@jupyter-widgets/controls",
            "_model_module_version": "1.5.0",
            "_model_name": "HTMLModel",
            "_view_count": null,
            "_view_module": "@jupyter-widgets/controls",
            "_view_module_version": "1.5.0",
            "_view_name": "HTMLView",
            "description": "",
            "description_tooltip": null,
            "layout": "IPY_MODEL_8bfcf766b7a24065a6a13f5dfe9f4d53",
            "placeholder": "​",
            "style": "IPY_MODEL_29665da5b11c442ba10bd7942e12c44e",
            "value": " 104/104 [01:27&lt;00:00,  1.58it/s]"
          }
        },
        "7e4f717f873c43d6adf78606cd79d22a": {
          "model_module": "@jupyter-widgets/controls",
          "model_module_version": "1.5.0",
          "model_name": "HTMLModel",
          "state": {
            "_dom_classes": [],
            "_model_module": "@jupyter-widgets/controls",
            "_model_module_version": "1.5.0",
            "_model_name": "HTMLModel",
            "_view_count": null,
            "_view_module": "@jupyter-widgets/controls",
            "_view_module_version": "1.5.0",
            "_view_name": "HTMLView",
            "description": "",
            "description_tooltip": null,
            "layout": "IPY_MODEL_ec0f096cb0804d9b8c78c35ae43d639e",
            "placeholder": "​",
            "style": "IPY_MODEL_e40df8ae420745558e29855b3dd88499",
            "value": "100%"
          }
        },
        "7fafc01ee7354d43aaf0d13071e5a2dc": {
          "model_module": "@jupyter-widgets/base",
          "model_module_version": "1.2.0",
          "model_name": "LayoutModel",
          "state": {
            "_model_module": "@jupyter-widgets/base",
            "_model_module_version": "1.2.0",
            "_model_name": "LayoutModel",
            "_view_count": null,
            "_view_module": "@jupyter-widgets/base",
            "_view_module_version": "1.2.0",
            "_view_name": "LayoutView",
            "align_content": null,
            "align_items": null,
            "align_self": null,
            "border": null,
            "bottom": null,
            "display": null,
            "flex": null,
            "flex_flow": null,
            "grid_area": null,
            "grid_auto_columns": null,
            "grid_auto_flow": null,
            "grid_auto_rows": null,
            "grid_column": null,
            "grid_gap": null,
            "grid_row": null,
            "grid_template_areas": null,
            "grid_template_columns": null,
            "grid_template_rows": null,
            "height": null,
            "justify_content": null,
            "justify_items": null,
            "left": null,
            "margin": null,
            "max_height": null,
            "max_width": null,
            "min_height": null,
            "min_width": null,
            "object_fit": null,
            "object_position": null,
            "order": null,
            "overflow": null,
            "overflow_x": null,
            "overflow_y": null,
            "padding": null,
            "right": null,
            "top": null,
            "visibility": null,
            "width": null
          }
        },
        "8bfcf766b7a24065a6a13f5dfe9f4d53": {
          "model_module": "@jupyter-widgets/base",
          "model_module_version": "1.2.0",
          "model_name": "LayoutModel",
          "state": {
            "_model_module": "@jupyter-widgets/base",
            "_model_module_version": "1.2.0",
            "_model_name": "LayoutModel",
            "_view_count": null,
            "_view_module": "@jupyter-widgets/base",
            "_view_module_version": "1.2.0",
            "_view_name": "LayoutView",
            "align_content": null,
            "align_items": null,
            "align_self": null,
            "border": null,
            "bottom": null,
            "display": null,
            "flex": null,
            "flex_flow": null,
            "grid_area": null,
            "grid_auto_columns": null,
            "grid_auto_flow": null,
            "grid_auto_rows": null,
            "grid_column": null,
            "grid_gap": null,
            "grid_row": null,
            "grid_template_areas": null,
            "grid_template_columns": null,
            "grid_template_rows": null,
            "height": null,
            "justify_content": null,
            "justify_items": null,
            "left": null,
            "margin": null,
            "max_height": null,
            "max_width": null,
            "min_height": null,
            "min_width": null,
            "object_fit": null,
            "object_position": null,
            "order": null,
            "overflow": null,
            "overflow_x": null,
            "overflow_y": null,
            "padding": null,
            "right": null,
            "top": null,
            "visibility": null,
            "width": null
          }
        },
        "90dc4d585a064455a46c730e480e18f5": {
          "model_module": "@jupyter-widgets/controls",
          "model_module_version": "1.5.0",
          "model_name": "FloatProgressModel",
          "state": {
            "_dom_classes": [],
            "_model_module": "@jupyter-widgets/controls",
            "_model_module_version": "1.5.0",
            "_model_name": "FloatProgressModel",
            "_view_count": null,
            "_view_module": "@jupyter-widgets/controls",
            "_view_module_version": "1.5.0",
            "_view_name": "ProgressView",
            "bar_style": "success",
            "description": "",
            "description_tooltip": null,
            "layout": "IPY_MODEL_d58cb7d7cec04285a413441ac00481ae",
            "max": 12,
            "min": 0,
            "orientation": "horizontal",
            "style": "IPY_MODEL_1e8e2698312f401786b445c0759df6b3",
            "value": 12
          }
        },
        "ad356a7fd5c74e8c99511f051481b32b": {
          "model_module": "@jupyter-widgets/controls",
          "model_module_version": "1.5.0",
          "model_name": "DescriptionStyleModel",
          "state": {
            "_model_module": "@jupyter-widgets/controls",
            "_model_module_version": "1.5.0",
            "_model_name": "DescriptionStyleModel",
            "_view_count": null,
            "_view_module": "@jupyter-widgets/base",
            "_view_module_version": "1.2.0",
            "_view_name": "StyleView",
            "description_width": ""
          }
        },
        "ad9a3c7f24344021a528a8c2689fcf8a": {
          "model_module": "@jupyter-widgets/controls",
          "model_module_version": "1.5.0",
          "model_name": "HBoxModel",
          "state": {
            "_dom_classes": [],
            "_model_module": "@jupyter-widgets/controls",
            "_model_module_version": "1.5.0",
            "_model_name": "HBoxModel",
            "_view_count": null,
            "_view_module": "@jupyter-widgets/controls",
            "_view_module_version": "1.5.0",
            "_view_name": "HBoxView",
            "box_style": "",
            "children": [
              "IPY_MODEL_7e4f717f873c43d6adf78606cd79d22a",
              "IPY_MODEL_90dc4d585a064455a46c730e480e18f5",
              "IPY_MODEL_70aa6a4f97b24101a6cefdc7ef9a849c"
            ],
            "layout": "IPY_MODEL_37a61233ee9b467f9976e1fe6b007bd4"
          }
        },
        "b1701e02c21c4b1fb911ad44a99a8845": {
          "model_module": "@jupyter-widgets/controls",
          "model_module_version": "1.5.0",
          "model_name": "HBoxModel",
          "state": {
            "_dom_classes": [],
            "_model_module": "@jupyter-widgets/controls",
            "_model_module_version": "1.5.0",
            "_model_name": "HBoxModel",
            "_view_count": null,
            "_view_module": "@jupyter-widgets/controls",
            "_view_module_version": "1.5.0",
            "_view_name": "HBoxView",
            "box_style": "",
            "children": [
              "IPY_MODEL_0ef88f284d94482aa58480a2494b11fe",
              "IPY_MODEL_48f1f936567048329c5616a523e4f5be",
              "IPY_MODEL_717014c53143485e8419094c067fe423"
            ],
            "layout": "IPY_MODEL_6dbd376118894d3d887452479e12332b"
          }
        },
        "b184e27f055b4f62bf6f5a85c1eb4c5b": {
          "model_module": "@jupyter-widgets/base",
          "model_module_version": "1.2.0",
          "model_name": "LayoutModel",
          "state": {
            "_model_module": "@jupyter-widgets/base",
            "_model_module_version": "1.2.0",
            "_model_name": "LayoutModel",
            "_view_count": null,
            "_view_module": "@jupyter-widgets/base",
            "_view_module_version": "1.2.0",
            "_view_name": "LayoutView",
            "align_content": null,
            "align_items": null,
            "align_self": null,
            "border": null,
            "bottom": null,
            "display": null,
            "flex": null,
            "flex_flow": null,
            "grid_area": null,
            "grid_auto_columns": null,
            "grid_auto_flow": null,
            "grid_auto_rows": null,
            "grid_column": null,
            "grid_gap": null,
            "grid_row": null,
            "grid_template_areas": null,
            "grid_template_columns": null,
            "grid_template_rows": null,
            "height": null,
            "justify_content": null,
            "justify_items": null,
            "left": null,
            "margin": null,
            "max_height": null,
            "max_width": null,
            "min_height": null,
            "min_width": null,
            "object_fit": null,
            "object_position": null,
            "order": null,
            "overflow": null,
            "overflow_x": null,
            "overflow_y": null,
            "padding": null,
            "right": null,
            "top": null,
            "visibility": null,
            "width": null
          }
        },
        "c98ac494951a495fbff91837cca1b306": {
          "model_module": "@jupyter-widgets/base",
          "model_module_version": "1.2.0",
          "model_name": "LayoutModel",
          "state": {
            "_model_module": "@jupyter-widgets/base",
            "_model_module_version": "1.2.0",
            "_model_name": "LayoutModel",
            "_view_count": null,
            "_view_module": "@jupyter-widgets/base",
            "_view_module_version": "1.2.0",
            "_view_name": "LayoutView",
            "align_content": null,
            "align_items": null,
            "align_self": null,
            "border": null,
            "bottom": null,
            "display": null,
            "flex": null,
            "flex_flow": null,
            "grid_area": null,
            "grid_auto_columns": null,
            "grid_auto_flow": null,
            "grid_auto_rows": null,
            "grid_column": null,
            "grid_gap": null,
            "grid_row": null,
            "grid_template_areas": null,
            "grid_template_columns": null,
            "grid_template_rows": null,
            "height": null,
            "justify_content": null,
            "justify_items": null,
            "left": null,
            "margin": null,
            "max_height": null,
            "max_width": null,
            "min_height": null,
            "min_width": null,
            "object_fit": null,
            "object_position": null,
            "order": null,
            "overflow": null,
            "overflow_x": null,
            "overflow_y": null,
            "padding": null,
            "right": null,
            "top": null,
            "visibility": null,
            "width": null
          }
        },
        "d58cb7d7cec04285a413441ac00481ae": {
          "model_module": "@jupyter-widgets/base",
          "model_module_version": "1.2.0",
          "model_name": "LayoutModel",
          "state": {
            "_model_module": "@jupyter-widgets/base",
            "_model_module_version": "1.2.0",
            "_model_name": "LayoutModel",
            "_view_count": null,
            "_view_module": "@jupyter-widgets/base",
            "_view_module_version": "1.2.0",
            "_view_name": "LayoutView",
            "align_content": null,
            "align_items": null,
            "align_self": null,
            "border": null,
            "bottom": null,
            "display": null,
            "flex": null,
            "flex_flow": null,
            "grid_area": null,
            "grid_auto_columns": null,
            "grid_auto_flow": null,
            "grid_auto_rows": null,
            "grid_column": null,
            "grid_gap": null,
            "grid_row": null,
            "grid_template_areas": null,
            "grid_template_columns": null,
            "grid_template_rows": null,
            "height": null,
            "justify_content": null,
            "justify_items": null,
            "left": null,
            "margin": null,
            "max_height": null,
            "max_width": null,
            "min_height": null,
            "min_width": null,
            "object_fit": null,
            "object_position": null,
            "order": null,
            "overflow": null,
            "overflow_x": null,
            "overflow_y": null,
            "padding": null,
            "right": null,
            "top": null,
            "visibility": null,
            "width": null
          }
        },
        "e40df8ae420745558e29855b3dd88499": {
          "model_module": "@jupyter-widgets/controls",
          "model_module_version": "1.5.0",
          "model_name": "DescriptionStyleModel",
          "state": {
            "_model_module": "@jupyter-widgets/controls",
            "_model_module_version": "1.5.0",
            "_model_name": "DescriptionStyleModel",
            "_view_count": null,
            "_view_module": "@jupyter-widgets/base",
            "_view_module_version": "1.2.0",
            "_view_name": "StyleView",
            "description_width": ""
          }
        },
        "ec0f096cb0804d9b8c78c35ae43d639e": {
          "model_module": "@jupyter-widgets/base",
          "model_module_version": "1.2.0",
          "model_name": "LayoutModel",
          "state": {
            "_model_module": "@jupyter-widgets/base",
            "_model_module_version": "1.2.0",
            "_model_name": "LayoutModel",
            "_view_count": null,
            "_view_module": "@jupyter-widgets/base",
            "_view_module_version": "1.2.0",
            "_view_name": "LayoutView",
            "align_content": null,
            "align_items": null,
            "align_self": null,
            "border": null,
            "bottom": null,
            "display": null,
            "flex": null,
            "flex_flow": null,
            "grid_area": null,
            "grid_auto_columns": null,
            "grid_auto_flow": null,
            "grid_auto_rows": null,
            "grid_column": null,
            "grid_gap": null,
            "grid_row": null,
            "grid_template_areas": null,
            "grid_template_columns": null,
            "grid_template_rows": null,
            "height": null,
            "justify_content": null,
            "justify_items": null,
            "left": null,
            "margin": null,
            "max_height": null,
            "max_width": null,
            "min_height": null,
            "min_width": null,
            "object_fit": null,
            "object_position": null,
            "order": null,
            "overflow": null,
            "overflow_x": null,
            "overflow_y": null,
            "padding": null,
            "right": null,
            "top": null,
            "visibility": null,
            "width": null
          }
        }
      }
    }
  },
  "nbformat": 4,
  "nbformat_minor": 0
}
