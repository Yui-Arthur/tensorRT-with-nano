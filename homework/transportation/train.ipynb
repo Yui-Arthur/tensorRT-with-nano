{
  "cells": [
    {
      "cell_type": "code",
      "execution_count": null,
      "metadata": {
        "id": "_a7RBVllTOCd"
      },
      "outputs": [],
      "source": [
        "import locale\n",
        "locale.getpreferredencoding = lambda: \"UTF-8\""
      ]
    },
    {
      "attachments": {},
      "cell_type": "markdown",
      "metadata": {},
      "source": [
        "## dataset"
      ]
    },
    {
      "cell_type": "code",
      "execution_count": null,
      "metadata": {
        "colab": {
          "base_uri": "https://localhost:8080/"
        },
        "id": "b7vyugLmYjYQ",
        "outputId": "9aa61683-4f46-42d0-e558-1ed5b5b82b64"
      },
      "outputs": [],
      "source": [
        "# TODO upload your dataset or use roboflow download code\n",
        "!curl -L {download_url} > roboflow.zip\n",
        "!unzip ./roboflow.zip"
      ]
    },
    {
      "attachments": {},
      "cell_type": "markdown",
      "metadata": {
        "id": "DMPrHke0ANKL"
      },
      "source": [
        "### train model"
      ]
    },
    {
      "cell_type": "code",
      "execution_count": null,
      "metadata": {
        "colab": {
          "base_uri": "https://localhost:8080/"
        },
        "id": "cud1hVoJYMXQ",
        "outputId": "2d1e38d6-e5b2-40b3-b895-40c7c38c4040"
      },
      "outputs": [],
      "source": [
        "!pip install ultralytics"
      ]
    },
    {
      "cell_type": "code",
      "execution_count": null,
      "metadata": {
        "colab": {
          "base_uri": "https://localhost:8080/"
        },
        "id": "deXoZt6e-QE6",
        "outputId": "bde303a6-c111-40d0-da6c-5f95c74b0be4"
      },
      "outputs": [],
      "source": [
        "# TODO train the model with your dataset\n",
        "# recommend at least train 50 epochs\n",
        "!yolo detect train data={yaml_path} model=yolov8n.pt epochs=10 imgsz=640"
      ]
    },
    {
      "attachments": {},
      "cell_type": "markdown",
      "metadata": {
        "id": "KGsraJRgdSwM"
      },
      "source": [
        "#### test model"
      ]
    },
    {
      "cell_type": "code",
      "execution_count": null,
      "metadata": {
        "id": "kS7Yk3bxdT2j"
      },
      "outputs": [],
      "source": [
        "from ultralytics import YOLO\n",
        "# TODO test your model with test img in dataset\n",
        "model = YOLO({best_model_path})\n",
        "model.predict({test_img}, save=True, imgsz=640, conf=0.5)"
      ]
    },
    {
      "attachments": {},
      "cell_type": "markdown",
      "metadata": {
        "id": "orpE2xr2aRNm"
      },
      "source": [
        "## export yolov8 to trt"
      ]
    },
    {
      "cell_type": "code",
      "execution_count": null,
      "metadata": {
        "id": "myLH8_0ND6GR"
      },
      "outputs": [],
      "source": [
        "from pathlib import Path\n",
        "# TODO your train dir ex. runs/detect/train/\n",
        "train_path = Path(\"\")\n",
        "model_path = train_path / \"weights\"\n",
        "pt_file = str(model_path / \"best.pt\")\n",
        "onnx_file = str(model_path / \"best.onnx\")\n",
        "trt_file = str(model_path / \"best.engine\")"
      ]
    },
    {
      "cell_type": "code",
      "execution_count": null,
      "metadata": {
        "colab": {
          "base_uri": "https://localhost:8080/"
        },
        "id": "Jx8sSRFgYpCD",
        "outputId": "4ad76e12-9570-4943-f44a-d34daf9264df"
      },
      "outputs": [],
      "source": [
        "# tensorRT engine\n",
        "!yolo export model={pt_file} format=onnx"
      ]
    },
    {
      "cell_type": "code",
      "execution_count": null,
      "metadata": {
        "colab": {
          "base_uri": "https://localhost:8080/",
          "height": 17
        },
        "id": "uhrzUqWq9JrW",
        "outputId": "20a82901-7788-4752-972b-84e5b14e3fe6"
      },
      "outputs": [],
      "source": [
        "# download onnx \n",
        "from google.colab import files\n",
        "files.download(onnx_file)"
      ]
    }
  ],
  "metadata": {
    "accelerator": "GPU",
    "colab": {
      "gpuType": "T4",
      "provenance": []
    },
    "kernelspec": {
      "display_name": "Python 3",
      "name": "python3"
    },
    "language_info": {
      "name": "python"
    }
  },
  "nbformat": 4,
  "nbformat_minor": 0
}
